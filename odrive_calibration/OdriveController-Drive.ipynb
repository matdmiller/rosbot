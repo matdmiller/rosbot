{
 "cells": [
  {
   "cell_type": "code",
   "execution_count": 1,
   "id": "b31414d0",
   "metadata": {},
   "outputs": [],
   "source": [
    "#!python3.8 -m pip install fastcore"
   ]
  },
  {
   "cell_type": "code",
   "execution_count": 1,
   "id": "eaaaf82e",
   "metadata": {},
   "outputs": [],
   "source": [
    "import sys\n",
    "import time\n",
    "import odrive\n",
    "from odrive.enums import *\n",
    "import fibre.libfibre\n",
    "# from fastcore.nb_imports import *\n",
    "from fastcore.all import *\n",
    "import ipywidgets as widgets\n",
    "import datetime\n",
    "from IPython.display import display\n",
    "import threading"
   ]
  },
  {
   "cell_type": "code",
   "execution_count": 2,
   "id": "68833c0a",
   "metadata": {},
   "outputs": [],
   "source": [
    "PERFORM_TESTS = True"
   ]
  },
  {
   "cell_type": "code",
   "execution_count": 3,
   "id": "cbc38323",
   "metadata": {},
   "outputs": [],
   "source": [
    "class OdriveMotorController:\n",
    "    \"\"\"\n",
    "    Class for configuring an Odrive axis for a Hoverboard motor. \n",
    "    Only works with one Odrive at a time.\n",
    "    \"\"\"\n",
    "    FIND_ODRIVE_RETRIES = 10 # Number of retries to find odrive after reset with 1 sec delay per try\n",
    "    MOTOR_KV = 10.0 # Motor KV\n",
    "    # Min/Max phase inductance of motor\n",
    "    MIN_PHASE_INDUCTANCE = 0.0008 #Original: 0 : 0.0017 for up to 6va : 0.0012 for 7\n",
    "    MAX_PHASE_INDUCTANCE = 0.0024 #Measured: 0.0019619388040155172   Original: 0.001\n",
    "    # Min/Max phase resistance of motor\n",
    "    MIN_PHASE_RESISTANCE = 0.77 #Original: 0.0\n",
    "    MAX_PHASE_RESISTANCE = 0.92 #Measured: 0.8209025263786316 Original 0.5\n",
    "    # Tolerance for encoder offset float\n",
    "    ENCODER_IS_HALL = False\n",
    "    ENCODER_OFFSET_FLOAT_TOLERANCE = 0.05 #Only relevant for hall sensors I think?\n",
    "    \n",
    "    def __init__(\n",
    "        self, \n",
    "        selected_axis_num:int,\n",
    "        find_odrive_max_retries:int=10\n",
    "    ):\n",
    "        \"\"\"\n",
    "        Initalizes HBMotorConfig class by finding odrive, erase its \n",
    "        configuration, and grabbing specified axis object.\n",
    "        \n",
    "        :param axis_num: Which channel/motor on the odrive your referring to.\n",
    "        :type axis_num: int (0 or 1)\n",
    "        \"\"\"\n",
    "        self.selected_axis_num = selected_axis_num\n",
    "        self.selected_axis = None\n",
    "        self.find_odrive_max_retries = find_odrive_max_retries\n",
    "        \n",
    "        self._find_odrive()\n",
    "        \n",
    "    def _find_odrive(self):\n",
    "        \"\"\"\n",
    "        Connect to Odrive\n",
    "        \"\"\"\n",
    "        odrive_found = False\n",
    "        for i in range(self.find_odrive_max_retries):\n",
    "            try:\n",
    "                self.odrv = odrive.find_any()\n",
    "                odrive_found = True\n",
    "                break\n",
    "            except fibre.libfibre.ObjectLostError:\n",
    "                print('Odrive temporarily not found. Trying again....')\n",
    "                time.sleep(.5)\n",
    "        if odrive_found == False: raise Exception(\"Odrive Not Found\")\n",
    "        self.selected_axis = getattr(self.odrv, \"axis{}\".format(self.selected_axis_num))"
   ]
  },
  {
   "cell_type": "code",
   "execution_count": 4,
   "id": "318fa635",
   "metadata": {},
   "outputs": [],
   "source": [
    "@patch\n",
    "def dump_errors(self:OdriveMotorController):\n",
    "    dump_errors(self.odrv)"
   ]
  },
  {
   "cell_type": "code",
   "execution_count": 5,
   "id": "c290a3b4",
   "metadata": {},
   "outputs": [],
   "source": [
    "if PERFORM_TESTS: omc = OdriveMotorController(selected_axis_num=1)"
   ]
  },
  {
   "cell_type": "code",
   "execution_count": 6,
   "id": "fa49517e",
   "metadata": {},
   "outputs": [],
   "source": [
    "@patch\n",
    "def select_axis(self:OdriveMotorController, selected_axis_num:int=0):\n",
    "    self.selected_axis_num = selected_axis_num\n",
    "    self._find_odrive()"
   ]
  },
  {
   "cell_type": "code",
   "execution_count": 7,
   "id": "f63c0d1e",
   "metadata": {},
   "outputs": [],
   "source": [
    "if PERFORM_TESTS:\n",
    "    temp_orig_selected_axis_num = omc.selected_axis_num\n",
    "    omc.select_axis(selected_axis_num=0)\n",
    "    assert omc.selected_axis_num == 0\n",
    "    assert omc.selected_axis == omc.odrv.axis0\n",
    "    omc.select_axis(selected_axis_num=1)\n",
    "    assert omc.selected_axis_num == 1\n",
    "    assert omc.selected_axis == omc.odrv.axis1\n",
    "    omc.select_axis(selected_axis_num=temp_orig_selected_axis_num)"
   ]
  },
  {
   "cell_type": "code",
   "execution_count": 8,
   "id": "0e31d7d4",
   "metadata": {},
   "outputs": [],
   "source": [
    "@patch\n",
    "def _wait_idle(self:OdriveMotorController):\n",
    "    \"\"\"\n",
    "    Waits until axis is idle\n",
    "    \"\"\"\n",
    "    time.sleep(.1)\n",
    "    while self.selected_axis.current_state != AXIS_STATE_IDLE:\n",
    "        time.sleep(.1)"
   ]
  },
  {
   "cell_type": "code",
   "execution_count": 9,
   "id": "171968b4",
   "metadata": {},
   "outputs": [],
   "source": [
    "@patch\n",
    "def _save_config(self:OdriveMotorController):\n",
    "    \"\"\"\n",
    "    Save the Odrive configuration and reboot\n",
    "    \"\"\"\n",
    "    try:\n",
    "        self.odrv.save_configuration()\n",
    "    except fibre.libfibre.ObjectLostError:\n",
    "        pass\n",
    "    print(\"Configuration Saved.\")\n",
    "    self._find_odrive()\n",
    "    self._wait_idle()"
   ]
  },
  {
   "cell_type": "code",
   "execution_count": 10,
   "id": "1e997f03",
   "metadata": {},
   "outputs": [],
   "source": [
    "# if PERFORM_TESTS: omc._save_config()"
   ]
  },
  {
   "cell_type": "code",
   "execution_count": 11,
   "id": "d118c2a1",
   "metadata": {},
   "outputs": [],
   "source": [
    "@patch\n",
    "def _reboot_odrive(self:OdriveMotorController):\n",
    "    print('Rebooting Odrive...')\n",
    "    try:\n",
    "        self.odrv.reboot()\n",
    "    except fibre.libfibre.ObjectLostError:\n",
    "        pass\n",
    "    self._find_odrive()\n",
    "    self._wait_idle()"
   ]
  },
  {
   "cell_type": "code",
   "execution_count": 12,
   "id": "496beba2",
   "metadata": {},
   "outputs": [],
   "source": [
    "# if PERFORM_TESTS: omc._reboot_odrive()"
   ]
  },
  {
   "cell_type": "code",
   "execution_count": 13,
   "id": "897b7f57",
   "metadata": {},
   "outputs": [],
   "source": [
    "def set_idle():\n",
    "    omc.odrv.axis0.requested_state = AXIS_STATE_IDLE\n",
    "    omc.odrv.axis1.requested_state = AXIS_STATE_IDLE"
   ]
  },
  {
   "cell_type": "code",
   "execution_count": 14,
   "id": "ab421821",
   "metadata": {},
   "outputs": [],
   "source": [
    "def set_velocity(velocity,enable=False):\n",
    "    try:\n",
    "        if type(velocity) in (int,float):\n",
    "            v0 = float(velocity)\n",
    "            v1 = float(velocity)\n",
    "        elif type(velocity) in (list,tuple):\n",
    "            assert len(velocity) == 2\n",
    "            v0 = float(velocity[0])\n",
    "            v1 = float(velocity[1])\n",
    "        else:\n",
    "            assert False,'improper input type'\n",
    "        if enable:\n",
    "            omc.odrv.axis0.controller.config.control_mode = CONTROL_MODE_VELOCITY_CONTROL\n",
    "            omc.odrv.axis0.controller.config.input_mode = INPUT_MODE_VEL_RAMP\n",
    "            omc.odrv.axis1.controller.config.control_mode = CONTROL_MODE_VELOCITY_CONTROL\n",
    "            omc.odrv.axis1.controller.config.input_mode = INPUT_MODE_VEL_RAMP\n",
    "        if ((v0 > 0. or v0 < 0.) or (v1 > 0. or v1 < 0.)) and omc.odrv.axis0.current_state != AXIS_STATE_CLOSED_LOOP_CONTROL and omc.odrv.axis1.current_state != AXIS_STATE_CLOSED_LOOP_CONTROL:\n",
    "            omc.odrv.axis0.requested_state = AXIS_STATE_CLOSED_LOOP_CONTROL\n",
    "            omc.odrv.axis1.requested_state = AXIS_STATE_CLOSED_LOOP_CONTROL\n",
    "        omc.odrv.axis0.controller.input_vel = v0\n",
    "        omc.odrv.axis1.controller.input_vel = v1\n",
    "        if v0 == 0. and v1 == 0.:\n",
    "            time.sleep(.5)\n",
    "            set_idle()\n",
    "    except:\n",
    "        set_idle()\n",
    "        print('Exception: idle successful')"
   ]
  },
  {
   "cell_type": "code",
   "execution_count": 37,
   "id": "14bdb52e",
   "metadata": {},
   "outputs": [],
   "source": [
    "set_velocity(0,enable=True)\n",
    "# set_velocity((0,0))"
   ]
  },
  {
   "cell_type": "code",
   "execution_count": 38,
   "id": "af6b41b7",
   "metadata": {},
   "outputs": [],
   "source": [
    "set_idle()"
   ]
  },
  {
   "cell_type": "code",
   "execution_count": 17,
   "id": "8c72e23b",
   "metadata": {},
   "outputs": [],
   "source": [
    "def on_submit_func(*args,**kwargs):\n",
    "    print(args)\n",
    "    print(kwargs)"
   ]
  },
  {
   "cell_type": "code",
   "execution_count": 18,
   "id": "895bf896",
   "metadata": {},
   "outputs": [],
   "source": [
    "class Keyboard_Controller:\n",
    "    VALID_KEYS = ['','a','s','d','w',' ']\n",
    "    VELOCITY_UPPER_LIMIT = 2.\n",
    "    VELOCITY_LOWER_LIMIT = -2.\n",
    "    TURN_UPPER_LIMIT = 2.\n",
    "    TURN_LOWER_LIMIT = -2.\n",
    "    VELOCITY_DECAY = 0.02\n",
    "    TURN_DECAY = 0.03\n",
    "    VELOCITY_INCREMENT = .2\n",
    "    TURN_INCREMENT = .1\n",
    "    HEARTBEAT_TIMEOUT_SEC = 5\n",
    "    def __init__(self):\n",
    "        self.velocity = 0.\n",
    "        self.turn_offset = 0.\n",
    "        self.widget_control = widgets.Text()\n",
    "        self.text_label = widgets.Label()\n",
    "        self.velocity_slider = widgets.FloatSlider(min=self.VELOCITY_LOWER_LIMIT,max=self.VELOCITY_UPPER_LIMIT,description='Velocity')\n",
    "        self.turn_slider = widgets.FloatSlider(min=self.TURN_LOWER_LIMIT,max=self.TURN_UPPER_LIMIT,description='Turning')\n",
    "        self.v0 = 0.\n",
    "        self.v1 = 0.\n",
    "        self.last_heartbeat = datetime.datetime.now()\n",
    "        self.exit_loop = True\n",
    "        display(self.widget_control)\n",
    "        display(self.text_label)\n",
    "        display(self.velocity_slider)\n",
    "        display(self.turn_slider)\n",
    "        \n",
    "    def emergency_shutdown(self):\n",
    "        self.exit_loop = True\n",
    "        set_idle()\n",
    "        self.exit_loop = True\n",
    "    \n",
    "    def loop(self):\n",
    "#             print(self.widget_control.value)\n",
    "        if len(self.widget_control.value) > 1:\n",
    "            k = self.widget_control.value[0]\n",
    "        else:\n",
    "            k = self.widget_control.value\n",
    "        self.widget_control.value = ''\n",
    "#             print(k)\n",
    "        if k == '':\n",
    "            pass\n",
    "        else:\n",
    "            self.last_heartbeat = datetime.datetime.now()\n",
    "            if k == 'w':\n",
    "                if 0. > self.velocity > (-1. * self.VELOCITY_INCREMENT) and self.velocity != 0.:\n",
    "                    self.velocity = 0.\n",
    "                else:\n",
    "                    self.velocity += self.VELOCITY_INCREMENT\n",
    "            elif k == 's':\n",
    "                if self.VELOCITY_INCREMENT > self.velocity > 0. and self.velocity != 0.:\n",
    "                    self.velocity = 0.\n",
    "                else:\n",
    "                    self.velocity -= self.VELOCITY_INCREMENT\n",
    "            elif k == 'd':\n",
    "                if 0. > self.turn_offset > (-1. * self.TURN_INCREMENT):\n",
    "                    self.turn_offset = 0.\n",
    "                else:\n",
    "                    self.turn_offset += self.TURN_INCREMENT\n",
    "            elif k == 'a':\n",
    "                if self.TURN_INCREMENT > self.turn_offset > 0.:\n",
    "                    self.turn_offset = 0.\n",
    "                else:\n",
    "                    self.turn_offset -= self.TURN_INCREMENT\n",
    "            elif k == 'z':\n",
    "                self.velocity = 0.\n",
    "                self.turn_offset = 0.\n",
    "            elif k == ' ':\n",
    "                pass\n",
    "            else: #any other key\n",
    "                self.emergency_shutdown()\n",
    "        if (datetime.datetime.now() - self.last_heartbeat).total_seconds() > self.HEARTBEAT_TIMEOUT_SEC and (self.velocity != 0. or self.turn_offset !=0.):\n",
    "            self.emergency_shutdown()\n",
    "        \n",
    "        if self.velocity > self.VELOCITY_UPPER_LIMIT: self.velocity = self.VELOCITY_UPPER_LIMIT\n",
    "        if self.velocity < self.VELOCITY_LOWER_LIMIT: self.velocity = self.VELOCITY_LOWER_LIMIT\n",
    "        if self.turn_offset > self.TURN_UPPER_LIMIT: self.turn_offset = self.TURN_UPPER_LIMIT\n",
    "        if self.turn_offset < self.TURN_LOWER_LIMIT: self.turn_offset = self.TURN_LOWER_LIMIT\n",
    "        self.velocity_slider.value = self.velocity\n",
    "        self.turn_slider.value = self.turn_offset\n",
    "\n",
    "        v0 = self.velocity + self.turn_offset/2.\n",
    "        v1 = self.velocity - self.turn_offset/2.\n",
    "        if v0 > self.VELOCITY_UPPER_LIMIT: v0 = self.VELOCITY_UPPER_LIMIT\n",
    "        if v0 < self.VELOCITY_LOWER_LIMIT: v0 = self.VELOCITY_LOWER_LIMIT\n",
    "        if v1 > self.VELOCITY_UPPER_LIMIT: v1 = self.VELOCITY_UPPER_LIMIT\n",
    "        if v1 < self.VELOCITY_LOWER_LIMIT: v1 = self.VELOCITY_LOWER_LIMIT\n",
    "\n",
    "        if abs(self.velocity) < self.VELOCITY_DECAY:\n",
    "            self.velocity = 0.\n",
    "        elif self.velocity > 0.:\n",
    "            self.velocity -= self.VELOCITY_DECAY\n",
    "        elif self.velocity < 0.:\n",
    "            self.velocity += self.VELOCITY_DECAY\n",
    "        else:\n",
    "            assert False,'bad velocity decay'\n",
    "        if abs(self.turn_offset) < self.TURN_DECAY:\n",
    "            self.turn_offset = 0.\n",
    "        elif self.turn_offset > 0.:\n",
    "            self.turn_offset -= self.TURN_DECAY\n",
    "        elif self.turn_offset < 0.:\n",
    "            self.turn_offset += self.TURN_DECAY\n",
    "        else:\n",
    "            assert False,'bad turn decay'\n",
    "\n",
    "        if self.exit_loop == False: set_velocity((v0,v1))\n",
    "        \n",
    "        self.text_label.value = str((\n",
    "            self.widget_control.value,\n",
    "            k,\n",
    "            round(self.velocity,2),\n",
    "            round(self.turn_offset,2),\n",
    "            round(v0,2),\n",
    "            round(v1,2),\n",
    "            round((datetime.datetime.now()-self.last_heartbeat).total_seconds(),2)),\n",
    "#             round(self.odrv.)\n",
    "        )\n",
    "#         print(self.text_label.value)\n",
    "    \n",
    "    def _run_loop(self):\n",
    "        self.last_heartbeat = datetime.datetime.now()\n",
    "        self.exit_loop = False\n",
    "        try:\n",
    "            while self.exit_loop == False:\n",
    "                time.sleep(.1)\n",
    "                self.loop()\n",
    "        except:\n",
    "            print('Loop Exception')\n",
    "            self.emergency_shutdown()\n",
    "        self.emergency_shutdown()\n",
    "\n",
    "    def run_loop(self):\n",
    "        #thread = threading.Thread(target=work, args=(w,))\n",
    "        thread = threading.Thread(target=self._run_loop)\n",
    "        thread.start()"
   ]
  },
  {
   "cell_type": "code",
   "execution_count": 39,
   "id": "03dedf23",
   "metadata": {
    "scrolled": true
   },
   "outputs": [
    {
     "name": "stdout",
     "output_type": "stream",
     "text": [
      "w-Fwd,s-Rev,a-Lft,d-Rgt,z-Off,space-HrtBt,anykey-estop\n"
     ]
    },
    {
     "data": {
      "application/vnd.jupyter.widget-view+json": {
       "model_id": "4c066fb5653e452682e39fdb8a20fed5",
       "version_major": 2,
       "version_minor": 0
      },
      "text/plain": [
       "Text(value='')"
      ]
     },
     "metadata": {},
     "output_type": "display_data"
    },
    {
     "data": {
      "application/vnd.jupyter.widget-view+json": {
       "model_id": "52e2c57ec0d34600a5afd778a188c632",
       "version_major": 2,
       "version_minor": 0
      },
      "text/plain": [
       "Label(value='')"
      ]
     },
     "metadata": {},
     "output_type": "display_data"
    },
    {
     "data": {
      "application/vnd.jupyter.widget-view+json": {
       "model_id": "877fe61b352744de8361acbfbdfd66e0",
       "version_major": 2,
       "version_minor": 0
      },
      "text/plain": [
       "FloatSlider(value=0.0, description='Velocity', max=2.0, min=-2.0)"
      ]
     },
     "metadata": {},
     "output_type": "display_data"
    },
    {
     "data": {
      "application/vnd.jupyter.widget-view+json": {
       "model_id": "579eafa1057f42f282000f96be239d6e",
       "version_major": 2,
       "version_minor": 0
      },
      "text/plain": [
       "FloatSlider(value=0.0, description='Turning', max=2.0, min=-2.0)"
      ]
     },
     "metadata": {},
     "output_type": "display_data"
    }
   ],
   "source": [
    "print('w-Fwd,s-Rev,a-Lft,d-Rgt,z-Off,space-HrtBt,anykey-estop')\n",
    "kc = Keyboard_Controller()\n",
    "kc.run_loop()"
   ]
  },
  {
   "cell_type": "code",
   "execution_count": 34,
   "id": "f034bb18",
   "metadata": {},
   "outputs": [
    {
     "data": {
      "text/plain": [
       "(0, 0, 0, 0)"
      ]
     },
     "execution_count": 34,
     "metadata": {},
     "output_type": "execute_result"
    }
   ],
   "source": [
    "omc.odrv.error, omc.odrv.axis0.error, omc.odrv.axis0.motor.error, omc.odrv.axis0.encoder.error"
   ]
  },
  {
   "cell_type": "code",
   "execution_count": 35,
   "id": "72797406",
   "metadata": {},
   "outputs": [
    {
     "data": {
      "text/plain": [
       "(0, 0, 0, 0)"
      ]
     },
     "execution_count": 35,
     "metadata": {},
     "output_type": "execute_result"
    }
   ],
   "source": [
    "omc.odrv.error, omc.odrv.axis1.error, omc.odrv.axis1.motor.error, omc.odrv.axis1.encoder.error"
   ]
  },
  {
   "cell_type": "code",
   "execution_count": 22,
   "id": "e3e58064",
   "metadata": {},
   "outputs": [],
   "source": [
    "omc.odrv.clear_errors()"
   ]
  },
  {
   "cell_type": "code",
   "execution_count": 23,
   "id": "ad530f3e",
   "metadata": {},
   "outputs": [],
   "source": [
    "# kc.emergency_shutdown()"
   ]
  },
  {
   "cell_type": "code",
   "execution_count": null,
   "id": "d2e58642",
   "metadata": {},
   "outputs": [],
   "source": [
    "assert False"
   ]
  },
  {
   "cell_type": "code",
   "execution_count": 33,
   "id": "2383239f",
   "metadata": {},
   "outputs": [
    {
     "name": "stdout",
     "output_type": "stream",
     "text": [
      "Rebooting Odrive...\n"
     ]
    }
   ],
   "source": [
    "omc._reboot_odrive()"
   ]
  },
  {
   "cell_type": "code",
   "execution_count": null,
   "id": "549f5d33",
   "metadata": {},
   "outputs": [],
   "source": []
  },
  {
   "cell_type": "code",
   "execution_count": null,
   "id": "40fb01ad",
   "metadata": {},
   "outputs": [],
   "source": []
  },
  {
   "cell_type": "code",
   "execution_count": null,
   "id": "68af8e39",
   "metadata": {},
   "outputs": [],
   "source": []
  },
  {
   "cell_type": "code",
   "execution_count": null,
   "id": "b414dfea",
   "metadata": {},
   "outputs": [],
   "source": []
  },
  {
   "cell_type": "code",
   "execution_count": null,
   "id": "17657a25",
   "metadata": {},
   "outputs": [],
   "source": []
  }
 ],
 "metadata": {
  "kernelspec": {
   "display_name": "Python 3 (ipykernel)",
   "language": "python",
   "name": "python3"
  },
  "language_info": {
   "codemirror_mode": {
    "name": "ipython",
    "version": 3
   },
   "file_extension": ".py",
   "mimetype": "text/x-python",
   "name": "python",
   "nbconvert_exporter": "python",
   "pygments_lexer": "ipython3",
   "version": "3.8.6"
  }
 },
 "nbformat": 4,
 "nbformat_minor": 5
}

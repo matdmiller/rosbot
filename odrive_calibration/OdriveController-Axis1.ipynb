{
 "cells": [
  {
   "cell_type": "code",
   "execution_count": 1,
   "id": "b31414d0",
   "metadata": {},
   "outputs": [],
   "source": [
    "#!python3.8 -m pip install fastcore"
   ]
  },
  {
   "cell_type": "code",
   "execution_count": 2,
   "id": "eaaaf82e",
   "metadata": {},
   "outputs": [],
   "source": [
    "import sys\n",
    "import time\n",
    "import odrive\n",
    "from odrive.enums import *\n",
    "import fibre.libfibre\n",
    "# from fastcore.nb_imports import *\n",
    "from fastcore.all import *"
   ]
  },
  {
   "cell_type": "code",
   "execution_count": 3,
   "id": "68833c0a",
   "metadata": {},
   "outputs": [],
   "source": [
    "PERFORM_TESTS = True"
   ]
  },
  {
   "cell_type": "code",
   "execution_count": 4,
   "id": "cbc38323",
   "metadata": {},
   "outputs": [],
   "source": [
    "class OdriveMotorController:\n",
    "    \"\"\"\n",
    "    Class for configuring an Odrive axis for a Hoverboard motor. \n",
    "    Only works with one Odrive at a time.\n",
    "    \"\"\"\n",
    "    FIND_ODRIVE_RETRIES = 10 # Number of retries to find odrive after reset with 1 sec delay per try\n",
    "    MOTOR_KV = 10.0 # Motor KV\n",
    "    # Min/Max phase inductance of motor\n",
    "    MIN_PHASE_INDUCTANCE = 0.0008 #Original: 0 : 0.0017 for up to 6va : 0.0012 for 7\n",
    "    MAX_PHASE_INDUCTANCE = 0.0024 #Measured: 0.0019619388040155172   Original: 0.001\n",
    "    # Min/Max phase resistance of motor\n",
    "    MIN_PHASE_RESISTANCE = 0.77 #Original: 0.0\n",
    "    MAX_PHASE_RESISTANCE = 0.92 #Measured: 0.8209025263786316 Original 0.5\n",
    "    # Tolerance for encoder offset float\n",
    "    ENCODER_IS_HALL = False\n",
    "    ENCODER_OFFSET_FLOAT_TOLERANCE = 0.05 #Only relevant for hall sensors I think?\n",
    "    \n",
    "    def __init__(\n",
    "        self, \n",
    "        selected_axis_num:int,\n",
    "        find_odrive_max_retries:int=10\n",
    "    ):\n",
    "        \"\"\"\n",
    "        Initalizes HBMotorConfig class by finding odrive, erase its \n",
    "        configuration, and grabbing specified axis object.\n",
    "        \n",
    "        :param axis_num: Which channel/motor on the odrive your referring to.\n",
    "        :type axis_num: int (0 or 1)\n",
    "        \"\"\"\n",
    "        self.selected_axis_num = selected_axis_num\n",
    "        self.selected_axis = None\n",
    "        self.find_odrive_max_retries = find_odrive_max_retries\n",
    "        \n",
    "        self._find_odrive()\n",
    "        \n",
    "    def _find_odrive(self):\n",
    "        \"\"\"\n",
    "        Connect to Odrive\n",
    "        \"\"\"\n",
    "        odrive_found = False\n",
    "        for i in range(self.find_odrive_max_retries):\n",
    "            try:\n",
    "                self.odrv = odrive.find_any()\n",
    "                odrive_found = True\n",
    "                break\n",
    "            except fibre.libfibre.ObjectLostError:\n",
    "                print('Odrive temporarily not found. Trying again....')\n",
    "                time.sleep(.5)\n",
    "        if odrive_found == False: raise Exception(\"Odrive Not Found\")\n",
    "        self.selected_axis = getattr(self.odrv, \"axis{}\".format(self.selected_axis_num))"
   ]
  },
  {
   "cell_type": "code",
   "execution_count": 5,
   "id": "318fa635",
   "metadata": {},
   "outputs": [],
   "source": [
    "@patch\n",
    "def dump_errors(self:OdriveMotorController):\n",
    "    dump_errors(self.odrv)"
   ]
  },
  {
   "cell_type": "code",
   "execution_count": 6,
   "id": "c290a3b4",
   "metadata": {},
   "outputs": [],
   "source": [
    "if PERFORM_TESTS: omc = OdriveMotorController(selected_axis_num=1)"
   ]
  },
  {
   "cell_type": "code",
   "execution_count": 7,
   "id": "fa49517e",
   "metadata": {},
   "outputs": [],
   "source": [
    "@patch\n",
    "def select_axis(self:OdriveMotorController, selected_axis_num:int=0):\n",
    "    self.selected_axis_num = selected_axis_num\n",
    "    self._find_odrive()"
   ]
  },
  {
   "cell_type": "code",
   "execution_count": 8,
   "id": "f63c0d1e",
   "metadata": {},
   "outputs": [],
   "source": [
    "if PERFORM_TESTS:\n",
    "    temp_orig_selected_axis_num = omc.selected_axis_num\n",
    "    omc.select_axis(selected_axis_num=0)\n",
    "    assert omc.selected_axis_num == 0\n",
    "    assert omc.selected_axis == omc.odrv.axis0\n",
    "    omc.select_axis(selected_axis_num=1)\n",
    "    assert omc.selected_axis_num == 1\n",
    "    assert omc.selected_axis == omc.odrv.axis1\n",
    "    omc.select_axis(selected_axis_num=temp_orig_selected_axis_num)"
   ]
  },
  {
   "cell_type": "code",
   "execution_count": 9,
   "id": "0e31d7d4",
   "metadata": {},
   "outputs": [],
   "source": [
    "@patch\n",
    "def _wait_idle(self:OdriveMotorController):\n",
    "    \"\"\"\n",
    "    Waits until axis is idle\n",
    "    \"\"\"\n",
    "    time.sleep(.1)\n",
    "    while self.selected_axis.current_state != AXIS_STATE_IDLE:\n",
    "        time.sleep(.1)"
   ]
  },
  {
   "cell_type": "code",
   "execution_count": 10,
   "id": "171968b4",
   "metadata": {},
   "outputs": [],
   "source": [
    "@patch\n",
    "def _save_config(self:OdriveMotorController):\n",
    "    \"\"\"\n",
    "    Save the Odrive configuration and reboot\n",
    "    \"\"\"\n",
    "    try:\n",
    "        self.odrv.save_configuration()\n",
    "    except fibre.libfibre.ObjectLostError:\n",
    "        pass\n",
    "    print(\"Configuration Saved.\")\n",
    "    self._find_odrive()\n",
    "    self._wait_idle()"
   ]
  },
  {
   "cell_type": "code",
   "execution_count": 11,
   "id": "1e997f03",
   "metadata": {},
   "outputs": [
    {
     "name": "stderr",
     "output_type": "stream",
     "text": [
      "\u001b[93;1m05:08:53.521180214 [LEGACY_OBJ] protocol failed with 3 - propagating error to application\u001b[0m\n"
     ]
    },
    {
     "name": "stdout",
     "output_type": "stream",
     "text": [
      "Configuration Saved.\n"
     ]
    }
   ],
   "source": [
    "if PERFORM_TESTS: omc._save_config()"
   ]
  },
  {
   "cell_type": "code",
   "execution_count": 12,
   "id": "11478e8f",
   "metadata": {},
   "outputs": [],
   "source": [
    "@patch\n",
    "def _erase_odrive(self:OdriveMotorController):\n",
    "    print(\"Erasing Odrive configuration...\")\n",
    "    try:\n",
    "        self.odrv.erase_configuration()\n",
    "    except fibre.libfibre.ObjectLostError:\n",
    "        pass\n",
    "    self._find_odrive()\n",
    "    self._wait_idle()"
   ]
  },
  {
   "cell_type": "code",
   "execution_count": 13,
   "id": "fec1cdf4",
   "metadata": {},
   "outputs": [],
   "source": [
    "#if PERFORM_TESTS: omc._erase_odrive()"
   ]
  },
  {
   "cell_type": "code",
   "execution_count": 14,
   "id": "d118c2a1",
   "metadata": {},
   "outputs": [],
   "source": [
    "@patch\n",
    "def _reboot_odrive(self:OdriveMotorController):\n",
    "    print('Rebooting Odrive...')\n",
    "    try:\n",
    "        self.odrv.reboot()\n",
    "    except fibre.libfibre.ObjectLostError:\n",
    "        pass\n",
    "    self._find_odrive()\n",
    "    self._wait_idle()"
   ]
  },
  {
   "cell_type": "code",
   "execution_count": 15,
   "id": "496beba2",
   "metadata": {},
   "outputs": [
    {
     "name": "stdout",
     "output_type": "stream",
     "text": [
      "Rebooting Odrive...\n"
     ]
    },
    {
     "name": "stderr",
     "output_type": "stream",
     "text": [
      "\u001b[93;1m05:09:03.973686485 [LEGACY_OBJ] protocol failed with 3 - propagating error to application\u001b[0m\n"
     ]
    }
   ],
   "source": [
    "if PERFORM_TESTS: omc._reboot_odrive()"
   ]
  },
  {
   "cell_type": "code",
   "execution_count": 16,
   "id": "666866c4",
   "metadata": {},
   "outputs": [],
   "source": [
    "@patch\n",
    "def _config_brake_resistor(self:OdriveMotorController,\n",
    "                           enable_brake_resistor:bool=True,\n",
    "                           brake_resistance:float = 2.,\n",
    "                           save_config=False):\n",
    "    \"\"\"\n",
    "    Configure the brake resistor\n",
    "    \"\"\"\n",
    "    self.odrv.config.enable_brake_resistor = True\n",
    "    self.odrv.config.brake_resistance = 2.\n",
    "    if save_config: self._save_config()"
   ]
  },
  {
   "cell_type": "code",
   "execution_count": 17,
   "id": "c899eb1a",
   "metadata": {},
   "outputs": [],
   "source": [
    "if PERFORM_TESTS: omc._config_brake_resistor()"
   ]
  },
  {
   "cell_type": "code",
   "execution_count": 18,
   "id": "9a4f2508",
   "metadata": {},
   "outputs": [],
   "source": [
    "@patch\n",
    "def _configure_motor(self:OdriveMotorController):\n",
    "    \"\"\"\n",
    "    \n",
    "    I_bus_hard_max: inf (float)\n",
    "    I_bus_hard_min: -inf (float)\n",
    "    I_leak_max: 0.10000000149011612 (float)\n",
    "    R_wL_FF_enable: False (bool)\n",
    "    acim_autoflux_attack_gain: 10.0 (float)\n",
    "    acim_autoflux_decay_gain: 1.0 (float)\n",
    "    acim_autoflux_enable: False (bool)\n",
    "    acim_autoflux_min_Id: 10.0 (float)\n",
    "    acim_gain_min_flux: 10.0 (float)\n",
    "    bEMF_FF_enable: False (bool)\n",
    "x    calibration_current: 10.0 (float)\n",
    "x    current_control_bandwidth: 1000.0 (float)\n",
    "x    current_lim: 10.0 (float)\n",
    "    current_lim_margin: 8.0 (float)\n",
    "    dc_calib_tau: 0.20000000298023224 (float)\n",
    "    inverter_temp_limit_lower: 100.0 (float)\n",
    "    inverter_temp_limit_upper: 120.0 (float)\n",
    "    motor_type: 0 (uint8)\n",
    "    phase_inductance: 0.0 (float)\n",
    "    phase_resistance: 0.0 (float)\n",
    "x    pole_pairs: 7 (int32)\n",
    ".    pre_calibrated: False (bool)\n",
    "x    requested_current_range: 60.0 (float)\n",
    "x    resistance_calib_max_voltage: 2.0 (float)\n",
    "x    torque_constant: 0.03999999910593033 (float)\n",
    "    torque_lim: inf (float)\n",
    "    \"\"\"\n",
    "    \n",
    "    # Hoverboard hub motors are quite high resistance compared to the hobby \n",
    "    # aircraft motors, so we want to use a bit higher voltage for the motor \n",
    "    # calibration, and set up the current sense gain to be more sensitive. \n",
    "    # The motors are also fairly high inductance, so we need to reduce the \n",
    "    # bandwidth of the current controller from the default to keep it \n",
    "    # stable.\n",
    "    self.selected_axis.motor.config.resistance_calib_max_voltage = 12 #Original: 4\n",
    "    self.selected_axis.motor.config.requested_current_range      = 24 #Original: 25\n",
    "    self.selected_axis.motor.config.current_control_bandwidth    = 150 #Original: 100\n",
    "    self.selected_axis.motor.config.current_lim = 14. #New was 8\n",
    "    self.selected_axis.motor.config.calibration_current = 4. #New Original: 3\n",
    "    self.selected_axis.motor.config.motor_type = MOTOR_TYPE_GIMBAL #New\n",
    "    \n",
    "    # Standard 6.5 inch hoverboard hub motors have 30 permanent magnet \n",
    "    # poles, and thus 15 pole pairs\n",
    "    self.selected_axis.motor.config.pole_pairs = 15\n",
    "    \n",
    "    # Estimated KV but should be measured using the \"drill test\", which can\n",
    "    # be found here:\n",
    "    # https://discourse.odriverobotics.com/t/project-hoverarm/441\n",
    "    self.selected_axis.motor.config.torque_constant = 8.27 / self.MOTOR_KV\n",
    "    \n",
    "    self._save_config()\n",
    "\n",
    "    #input(\"Make sure the motor is free to move, then press enter...\") #TODO: Re-enable\n",
    "\n",
    "    print(\"Calibrating Odrive for hoverboard motor (you should hear a \"\n",
    "    \"beep)...\")\n",
    "\n",
    "    self.selected_axis.requested_state = AXIS_STATE_MOTOR_CALIBRATION\n",
    "    while self.selected_axis.current_state == AXIS_STATE_UNDEFINED: time.sleep(.1)\n",
    "    while self.selected_axis.current_state == AXIS_STATE_MOTOR_CALIBRATION: time.sleep(.1)\n",
    "    \n",
    "    \n",
    "    if self.selected_axis.motor.error != 0:\n",
    "        print(\"Error: Odrive reported an error of {} while in the state \" \n",
    "        \"AXIS_STATE_MOTOR_CALIBRATION. Printing out Odrive motor data for \"\n",
    "        \"debug:\\n{}\".format(self.selected_axis.motor.error, \n",
    "                            self.selected_axis.motor))\n",
    "\n",
    "        raise Exception(\"Motor Parameter Error\")\n",
    "\n",
    "    if self.selected_axis.motor.config.motor_type != MOTOR_TYPE_GIMBAL:\n",
    "        if self.selected_axis.motor.config.phase_inductance <= self.MIN_PHASE_INDUCTANCE or \\\n",
    "        self.selected_axis.motor.config.phase_inductance >= self.MAX_PHASE_INDUCTANCE:\n",
    "            print(\"Error: After odrive motor calibration, the phase inductance \"\n",
    "            \"is at {}, which is outside of the expected range. Either widen the \"\n",
    "            \"boundaries of MIN_PHASE_INDUCTANCE and MAX_PHASE_INDUCTANCE (which \"\n",
    "            \"is between {} and {} respectively) or debug/fix your setup. Printing \"\n",
    "            \"out Odrive motor data for debug:\\n{}\".format(self.selected_axis.motor.config.phase_inductance, \n",
    "                                                          self.MIN_PHASE_INDUCTANCE,\n",
    "                                                          self.MAX_PHASE_INDUCTANCE, \n",
    "                                                          self.selected_axis.motor))\n",
    "\n",
    "            raise Exception(\"Motor Parameter Error\")\n",
    "\n",
    "        if self.selected_axis.motor.config.phase_resistance <= self.MIN_PHASE_RESISTANCE or \\\n",
    "        self.selected_axis.motor.config.phase_resistance >= self.MAX_PHASE_RESISTANCE:\n",
    "            print(\"Error: After odrive motor calibration, the phase resistance \"\n",
    "            \"is at {}, which is outside of the expected range. Either raise the \"\n",
    "            \"MAX_PHASE_RESISTANCE (which is between {} and {} respectively) or \"\n",
    "            \"debug/fix your setup. Printing out Odrive motor data for \" \n",
    "            \"debug:\\n{}\".format(self.selected_axis.motor.config.phase_resistance, \n",
    "                                self.MIN_PHASE_RESISTANCE,\n",
    "                                self.MAX_PHASE_RESISTANCE, \n",
    "                                self.selected_axis.motor))\n",
    "\n",
    "            raise Exception(\"Motor Parameter Error\")\n",
    "\n",
    "    # If all looks good, then lets tell ODrive that saving this calibration \n",
    "    # to persistent memory is OK\n",
    "    self.selected_axis.motor.config.pre_calibrated = True\n",
    "    self._save_config()\n",
    "    "
   ]
  },
  {
   "cell_type": "code",
   "execution_count": 19,
   "id": "49aa547b",
   "metadata": {
    "scrolled": true
   },
   "outputs": [
    {
     "name": "stderr",
     "output_type": "stream",
     "text": [
      "\u001b[93;1m05:09:16.521386376 [LEGACY_OBJ] protocol failed with 3 - propagating error to application\u001b[0m\n"
     ]
    },
    {
     "name": "stdout",
     "output_type": "stream",
     "text": [
      "Configuration Saved.\n",
      "Calibrating Odrive for hoverboard motor (you should hear a beep)...\n",
      "Configuration Saved.\n",
      "0.0 0.0\n",
      "12.0\n",
      "True\n",
      "False\n"
     ]
    }
   ],
   "source": [
    "if PERFORM_TESTS: \n",
    "    omc._configure_motor()\n",
    "    print(omc.selected_axis.motor.config.phase_inductance,omc.selected_axis.motor.config.phase_resistance)\n",
    "    print(omc.selected_axis.motor.config.resistance_calib_max_voltage)\n",
    "    print(omc.selected_axis.motor.is_calibrated)\n",
    "    print(omc.selected_axis.motor.is_armed)\n",
    "    \n",
    "    "
   ]
  },
  {
   "cell_type": "code",
   "execution_count": 20,
   "id": "e34e5dd2",
   "metadata": {},
   "outputs": [
    {
     "data": {
      "text/plain": [
       "0"
      ]
     },
     "execution_count": 20,
     "metadata": {},
     "output_type": "execute_result"
    }
   ],
   "source": [
    "omc.selected_axis.motor.error"
   ]
  },
  {
   "cell_type": "code",
   "execution_count": 21,
   "id": "d958e032",
   "metadata": {},
   "outputs": [],
   "source": [
    "# omc.dump_errors()\n",
    "# dump_errors(omc.odrv)\n",
    "# dump_errors(omc.selected_axis.motor.error)\n",
    "# omc.dump_errors()\n",
    "# dump_errors(omc.odrv)\n"
   ]
  },
  {
   "cell_type": "code",
   "execution_count": null,
   "id": "33dea10f",
   "metadata": {},
   "outputs": [],
   "source": []
  },
  {
   "cell_type": "code",
   "execution_count": 22,
   "id": "06e370a4",
   "metadata": {},
   "outputs": [],
   "source": [
    "@patch\n",
    "def _configure_encoder(self:OdriveMotorController):\n",
    "    \"\"\"\n",
    "    \n",
    "    abs_spi_cs_gpio_pin: 1 (uint16)\n",
    "x    bandwidth: 1000.0 (float)\n",
    "    calib_range: 0.019999999552965164 (float)\n",
    "xx    calib_scan_distance: 50.26548385620117 (float)\n",
    "    calib_scan_omega: 12.566370964050293 (float)\n",
    "x    cpr: 8192 (int32)\n",
    "    direction: 0 (int32)\n",
    "    enable_phase_interpolation: True (bool)\n",
    "    find_idx_on_lockin_only: False (bool)\n",
    "    hall_polarity: 0 (uint8)\n",
    "    hall_polarity_calibrated: False (bool)\n",
    "    ignore_illegal_hall_state: False (bool)\n",
    "    index_offset: 0.0 (float)\n",
    "x    mode: 0 (uint16)\n",
    "    phase_offset: 0 (int32)\n",
    "    phase_offset_float: 0.0 (float)\n",
    "    pre_calibrated: False (bool)\n",
    "    sincos_gpio_pin_cos: 4 (uint16)\n",
    "    sincos_gpio_pin_sin: 3 (uint16)\n",
    "    use_index: False (bool)\n",
    "    use_index_offset: True (bool)\n",
    "    \"\"\"\n",
    "    # Hoverboard motors contain hall effect sensors instead of incremental \n",
    "    # encorders\n",
    "    self.selected_axis.encoder.config.mode = ENCODER_MODE_INCREMENTAL #Original: ENCODER_MODE_HALL\n",
    "\n",
    "    # The hall feedback has 6 states for every pole pair in the motor. Since\n",
    "    # we have 15 pole pairs, we set the cpr to 15*6 = 90.\n",
    "    self.selected_axis.encoder.config.cpr = 3200 #Original: 90\n",
    "\n",
    "    # Since hall sensors are low resolution feedback, we also bump up the \n",
    "    #offset calibration displacement to get better calibration accuracy.\n",
    "    self.selected_axis.encoder.config.calib_scan_distance = 50 #Original: 150\n",
    "    \n",
    "    # Since the hall feedback only has 90 counts per revolution, we want to \n",
    "    # reduce the velocity tracking bandwidth to get smoother velocity \n",
    "    # estimates. We can also set these fairly modest gains that will be a\n",
    "    # bit sloppy but shouldn’t shake your rig apart if it’s built poorly. \n",
    "    # Make sure to tune the gains up when you have everything else working \n",
    "    # to a stiffness that is applicable to your application.\n",
    "    self.selected_axis.encoder.config.bandwidth = 200 #Original: 100 Last: 200\n",
    "    \n",
    "    print(\"Calibrating Odrive for encoder...\")\n",
    "    self.selected_axis.requested_state = AXIS_STATE_ENCODER_OFFSET_CALIBRATION\n",
    "    while self.selected_axis.current_state != AXIS_STATE_ENCODER_OFFSET_CALIBRATION: time.sleep(.1)\n",
    "    while self.selected_axis.current_state == AXIS_STATE_ENCODER_OFFSET_CALIBRATION: time.sleep(.1)\n",
    "\n",
    "    # Wait for calibration to take place\n",
    "    # time.sleep(20)\n",
    "\n",
    "    if self.selected_axis.encoder.error != 0:\n",
    "        print(\"Error: Odrive reported an error of {} while in the state \"\n",
    "        \"AXIS_STATE_ENCODER_OFFSET_CALIBRATION. Printing out Odrive encoder \"\n",
    "        \"data for debug:\\n{}\".format(self.selected_axis.encoder.error, \n",
    "                                     self.selected_axis.encoder))\n",
    "\n",
    "        raise Exception(\"Encoder Parameter Error\")\n",
    "\n",
    "    if self.ENCODER_IS_HALL:\n",
    "        # If offset_float isn't 0.5 within some tolerance, or its not 1.5 within\n",
    "        # some tolerance, raise an error\n",
    "        if not ((self.selected_axis.encoder.config.offset_float > 0.5 - self.ENCODER_OFFSET_FLOAT_TOLERANCE and \\\n",
    "        self.selected_axis.encoder.config.offset_float < 0.5 + self.ENCODER_OFFSET_FLOAT_TOLERANCE) or \\\n",
    "        (self.selected_axis.encoder.config.offset_float > 1.5 - self.ENCODER_OFFSET_FLOAT_TOLERANCE and \\\n",
    "        self.selected_axis.encoder.config.offset_float < 1.5 + self.ENCODER_OFFSET_FLOAT_TOLERANCE)):\n",
    "            print(\"Error: After odrive encoder calibration, the 'offset_float' \"\n",
    "            \"is at {}, which is outside of the expected range. 'offset_float' \"\n",
    "            \"should be close to 0.5 or 1.5 with a tolerance of {}. Either \"\n",
    "            \"increase the tolerance or debug/fix your setup. Printing out \"\n",
    "            \"Odrive encoder data for debug:\\n{}\".format(self.selected_axis.encoder.config.offset_float, \n",
    "                                                        self.ENCODER_OFFSET_FLOAT_TOLERANCE, \n",
    "                                                        self.selected_axis.encoder))\n",
    "\n",
    "            raise Exception(\"Encoder Parameter Error\")\n",
    "    else:\n",
    "        if (self.selected_axis.encoder.config.phase_offset_float > -0.0001) and (self.selected_axis.encoder.config.phase_offset_float < 0.0001):\n",
    "            print(\"Error: After odrive encoder calibration with non-hall sensor, the 'phase_offset_float' \"\n",
    "            \"is at {}, which is outside of the expected range. 'phase_offset_float' \"\n",
    "            \"should be not be 0.0 a tolerance of {}. Either \"\n",
    "            \"increase the tolerance or debug/fix your setup. Printing out \"\n",
    "            \"Odrive encoder data for debug:\\n{}\".format(self.selected_axis.encoder.config.phase_offset_float, \n",
    "                                                        self.ENCODER_OFFSET_FLOAT_TOLERANCE, \n",
    "                                                        self.selected_axis.encoder))\n",
    "            raise Exception(\"Encoder Parameter Error\")\n",
    "\n",
    "    # If all looks good, then lets tell ODrive that saving this calibration \n",
    "    # to persistent memory is OK\n",
    "    # self.odrv_axis.encoder.config.pre_calibrated = True #TODO: Not sure if we can save calibration for encoder\n",
    "    self.selected_axis.config.startup_encoder_offset_calibration = True\n",
    "    # self.odrv_axis.config.startup_closed_loop_control = True\n",
    "\n",
    "    self.selected_axis.encoder.config.calib_scan_distance = 10 #Set shorter encoder calibration after startup after config complete\n",
    "\n",
    "    print(\"Saving calibration configuration and rebooting...\")\n",
    "    self._save_config()\n",
    "    \n",
    "    \n",
    "    "
   ]
  },
  {
   "cell_type": "code",
   "execution_count": 23,
   "id": "c1dc0549",
   "metadata": {},
   "outputs": [
    {
     "name": "stdout",
     "output_type": "stream",
     "text": [
      "Calibrating Odrive for encoder...\n",
      "Saving calibration configuration and rebooting...\n"
     ]
    },
    {
     "name": "stderr",
     "output_type": "stream",
     "text": [
      "\u001b[93;1m05:09:44.1597548 [LEGACY_OBJ] protocol failed with 3 - propagating error to application\u001b[0m\n"
     ]
    },
    {
     "name": "stdout",
     "output_type": "stream",
     "text": [
      "Configuration Saved.\n",
      "Rebooting Odrive...\n"
     ]
    },
    {
     "name": "stderr",
     "output_type": "stream",
     "text": [
      "\u001b[93;1m05:09:48.958370455 [LEGACY_OBJ] protocol failed with 3 - propagating error to application\u001b[0m\n"
     ]
    }
   ],
   "source": [
    "if PERFORM_TESTS: omc._configure_encoder();omc._reboot_odrive()"
   ]
  },
  {
   "cell_type": "code",
   "execution_count": 24,
   "id": "f12f8105",
   "metadata": {},
   "outputs": [
    {
     "data": {
      "text/plain": [
       "0"
      ]
     },
     "execution_count": 24,
     "metadata": {},
     "output_type": "execute_result"
    }
   ],
   "source": [
    "omc.selected_axis.encoder.error"
   ]
  },
  {
   "cell_type": "code",
   "execution_count": 25,
   "id": "65eb60f3",
   "metadata": {},
   "outputs": [
    {
     "data": {
      "text/plain": [
       "abs_spi_cs_gpio_pin: 1 (uint16)\n",
       "bandwidth: 200.0 (float)\n",
       "calib_range: 0.019999999552965164 (float)\n",
       "calib_scan_distance: 10.0 (float)\n",
       "calib_scan_omega: 12.566370964050293 (float)\n",
       "cpr: 3200 (int32)\n",
       "direction: -1 (int32)\n",
       "enable_phase_interpolation: True (bool)\n",
       "find_idx_on_lockin_only: False (bool)\n",
       "hall_polarity: 0 (uint8)\n",
       "hall_polarity_calibrated: False (bool)\n",
       "ignore_illegal_hall_state: False (bool)\n",
       "index_offset: 0.0 (float)\n",
       "mode: 0 (uint16)\n",
       "phase_offset: -167 (int32)\n",
       "phase_offset_float: 0.16792216897010803 (float)\n",
       "pre_calibrated: False (bool)\n",
       "sincos_gpio_pin_cos: 4 (uint16)\n",
       "sincos_gpio_pin_sin: 3 (uint16)\n",
       "use_index: False (bool)\n",
       "use_index_offset: True (bool)"
      ]
     },
     "execution_count": 25,
     "metadata": {},
     "output_type": "execute_result"
    }
   ],
   "source": [
    "omc.selected_axis.encoder.config"
   ]
  },
  {
   "cell_type": "code",
   "execution_count": 26,
   "id": "034a681b",
   "metadata": {},
   "outputs": [],
   "source": [
    "@patch\n",
    "def _configure_controller(self:OdriveMotorController):\n",
    "    self.selected_axis.controller.config.vel_limit = 3 #Original: 10"
   ]
  },
  {
   "cell_type": "code",
   "execution_count": 27,
   "id": "3ebbe536",
   "metadata": {},
   "outputs": [],
   "source": [
    "if PERFORM_TESTS: omc._configure_controller()"
   ]
  },
  {
   "cell_type": "code",
   "execution_count": 28,
   "id": "803e9782",
   "metadata": {},
   "outputs": [],
   "source": [
    "# @patch\n",
    "# def _configure_pid(self:OdriveMotorController):\n",
    "    #self.selected_axis.controller.config.pos_gain = 4.5 #Original: 1\n",
    "    #self.selected_axis.controller.config.vel_gain = 3. #Original: 1.67\n",
    "    #self.selected_axis.controller.config.vel_gain = 0.02 * self.odrv_axis.motor.config.torque_constant * self.odrv_axis.encoder.config.cpr #Original: 0.02 * self.odrv_axis.motor.config.torque_constant * self.odrv_axis.encoder.config.cpr\n",
    "    #self.selected_axis.controller.config.vel_integrator_gain = 2.2 #Default: 0.333\n",
    "    #self.selected_axis.controller.config.vel_integrator_gain = 0.1 * self.odrv_axis.motor.config.torque_constant * self.odrv_axis.encoder.config.cpr #Original: 0.1 * self.odrv_axis.motor.config.torque_constant * self.odrv_axis.encoder.config.cpr\n",
    "        \n",
    "        "
   ]
  },
  {
   "cell_type": "code",
   "execution_count": 29,
   "id": "10bc0cb5",
   "metadata": {},
   "outputs": [],
   "source": [
    "\n",
    "omc.selected_axis.controller.config.control_mode = CONTROL_MODE_VELOCITY_CONTROL\n",
    "omc.selected_axis.controller.config.input_mode = INPUT_MODE_VEL_RAMP\n",
    "omc.selected_axis.requested_state = AXIS_STATE_CLOSED_LOOP_CONTROL\n"
   ]
  },
  {
   "cell_type": "code",
   "execution_count": 30,
   "id": "b4eba2f3",
   "metadata": {},
   "outputs": [
    {
     "data": {
      "text/plain": [
       "(0, 0, 0, 0)"
      ]
     },
     "execution_count": 30,
     "metadata": {},
     "output_type": "execute_result"
    }
   ],
   "source": [
    "omc.odrv.error, omc.odrv.axis0.error, omc.odrv.axis0.motor.error, omc.odrv.axis0.encoder.error"
   ]
  },
  {
   "cell_type": "code",
   "execution_count": 31,
   "id": "1f7e9f53",
   "metadata": {},
   "outputs": [],
   "source": [
    "omc.odrv.clear_errors()"
   ]
  },
  {
   "cell_type": "code",
   "execution_count": 33,
   "id": "e8098cef",
   "metadata": {},
   "outputs": [],
   "source": [
    "omc.selected_axis.controller.config.vel_integrator_gain = 2\n",
    "omc.selected_axis.controller.config.vel_gain = 6. #.167\n",
    "# omc.selected_axis.controller.config.vel_integrator_limit = 1"
   ]
  },
  {
   "cell_type": "code",
   "execution_count": 34,
   "id": "1cc8f34e",
   "metadata": {
    "scrolled": true
   },
   "outputs": [],
   "source": [
    "###TUNE VELOCITY GAIN.  Vibrations at 13, so setting to 6.\n",
    "# try:\n",
    "#     omc.selected_axis.controller.config.vel_gain = 6. #.167\n",
    "#     for vg_step in range(10):\n",
    "#         assert (omc.odrv.error, omc.odrv.axis0.error, omc.odrv.axis0.motor.error, omc.odrv.axis0.encoder.error) == (0,0,0,0)\n",
    "#         for i in range(1,4):\n",
    "#             omc.selected_axis.controller.input_vel = i\n",
    "#             time.sleep(.5)\n",
    "#         print(omc.selected_axis.controller.vel_setpoint)\n",
    "#         print(omc.selected_axis.encoder.vel_estimate)\n",
    "#         for i in range(50):\n",
    "#             time.sleep(.1)\n",
    "#             print(omc.selected_axis.encoder.vel_estimate)\n",
    "#         for i in range(20):\n",
    "#             time.sleep(.1)\n",
    "#             omc.selected_axis.controller.input_vel = omc.selected_axis.controller.input_vel * .8\n",
    "#         omc.selected_axis.controller.input_vel = 0\n",
    "#         omc.selected_axis.controller.config.vel_gain = omc.selected_axis.controller.config.vel_gain * 1.3\n",
    "#         print('vel_gain',omc.selected_axis.controller.config.vel_gain)\n",
    "#         time.sleep(1)\n",
    "# except:\n",
    "#     omc.selected_axis.requested_state = AXIS_STATE_IDLE\n",
    "#     print('idle successful')\n",
    "#     omc.selected_axis.controller.input_vel = 0\n",
    "#     print(omc.selected_axis.controller.config.vel_integrator_gain)\n",
    "    "
   ]
  },
  {
   "cell_type": "code",
   "execution_count": 35,
   "id": "8c53d9f5",
   "metadata": {},
   "outputs": [],
   "source": [
    "omc.selected_axis.controller.input_vel = .0"
   ]
  },
  {
   "cell_type": "code",
   "execution_count": 36,
   "id": "ae8e75c2",
   "metadata": {},
   "outputs": [],
   "source": [
    "# if PERFORM_TESTS: omc._configure_pid()"
   ]
  },
  {
   "cell_type": "code",
   "execution_count": 38,
   "id": "2e00fb85",
   "metadata": {},
   "outputs": [
    {
     "data": {
      "text/plain": [
       "(3.0, 1.2000000476837158, 1.0, 6.0, 2.0)"
      ]
     },
     "execution_count": 38,
     "metadata": {},
     "output_type": "execute_result"
    }
   ],
   "source": [
    "(\n",
    "    omc.selected_axis.controller.config.vel_limit,\n",
    "    omc.selected_axis.controller.config.vel_limit_tolerance,\n",
    "    omc.selected_axis.controller.config.vel_ramp_rate,\n",
    "    omc.selected_axis.controller.config.vel_gain,\n",
    "    # omc.selected_axis.controller.config.vel_integrator_limit,\n",
    "    omc.selected_axis.controller.config.vel_integrator_gain,\n",
    ")"
   ]
  },
  {
   "cell_type": "markdown",
   "id": "c6f97f11",
   "metadata": {},
   "source": [
    "### Tune Position Control Gain"
   ]
  },
  {
   "cell_type": "code",
   "execution_count": 39,
   "id": "3abbc678",
   "metadata": {},
   "outputs": [],
   "source": [
    "omc.selected_axis.controller.config.pos_gain = 1.2 #20.\n",
    "omc.selected_axis.controller.config.input_filter_bandwidth = 10.0"
   ]
  },
  {
   "cell_type": "code",
   "execution_count": 40,
   "id": "8688e71e",
   "metadata": {},
   "outputs": [],
   "source": [
    "omc.selected_axis.controller.config.control_mode = CONTROL_MODE_POSITION_CONTROL\n",
    "omc.selected_axis.controller.config.input_mode = INPUT_MODE_POS_FILTER\n",
    "omc.selected_axis.requested_state = AXIS_STATE_CLOSED_LOOP_CONTROL"
   ]
  },
  {
   "cell_type": "code",
   "execution_count": 41,
   "id": "0e4e3c55",
   "metadata": {},
   "outputs": [],
   "source": [
    "# try:\n",
    "#     print('starting test')\n",
    "#     for i in range(2):\n",
    "#         omc.selected_axis.controller.input_pos = (i % 2) * 2\n",
    "#         time.sleep(5)\n",
    "# except:\n",
    "#     omc.selected_axis.requested_state = AXIS_STATE_IDLE\n",
    "#     print('idle successful')\n",
    "#     omc.selected_axis.controller.input_pos = 0"
   ]
  },
  {
   "cell_type": "code",
   "execution_count": 42,
   "id": "306d8afb",
   "metadata": {},
   "outputs": [
    {
     "data": {
      "text/plain": [
       "(0, 0, 0, 0)"
      ]
     },
     "execution_count": 42,
     "metadata": {},
     "output_type": "execute_result"
    }
   ],
   "source": [
    "omc.odrv.error, omc.odrv.axis0.error, omc.odrv.axis0.motor.error, omc.odrv.axis0.encoder.error"
   ]
  },
  {
   "cell_type": "code",
   "execution_count": 43,
   "id": "d6408f5e",
   "metadata": {},
   "outputs": [],
   "source": [
    "omc.selected_axis.requested_state = AXIS_STATE_IDLE"
   ]
  },
  {
   "cell_type": "code",
   "execution_count": 44,
   "id": "7e1f9425",
   "metadata": {},
   "outputs": [
    {
     "name": "stderr",
     "output_type": "stream",
     "text": [
      "\u001b[93;1m05:10:52.628549627 [LEGACY_OBJ] protocol failed with 3 - propagating error to application\u001b[0m\n"
     ]
    },
    {
     "name": "stdout",
     "output_type": "stream",
     "text": [
      "Configuration Saved.\n"
     ]
    }
   ],
   "source": [
    "omc._save_config()"
   ]
  },
  {
   "cell_type": "code",
   "execution_count": 45,
   "id": "f56fb36c",
   "metadata": {},
   "outputs": [
    {
     "name": "stdout",
     "output_type": "stream",
     "text": [
      "Rebooting Odrive...\n"
     ]
    },
    {
     "name": "stderr",
     "output_type": "stream",
     "text": [
      "\u001b[93;1m05:11:04.617861408 [LEGACY_OBJ] protocol failed with 3 - propagating error to application\u001b[0m\n"
     ]
    }
   ],
   "source": [
    "omc._reboot_odrive()"
   ]
  },
  {
   "cell_type": "code",
   "execution_count": 46,
   "id": "578da1dc",
   "metadata": {},
   "outputs": [
    {
     "data": {
      "text/plain": [
       "(0, 0, 0, 0)"
      ]
     },
     "execution_count": 46,
     "metadata": {},
     "output_type": "execute_result"
    }
   ],
   "source": [
    "omc.odrv.error, omc.odrv.axis0.error, omc.odrv.axis0.motor.error, omc.odrv.axis0.encoder.error"
   ]
  },
  {
   "cell_type": "code",
   "execution_count": null,
   "id": "14bdb52e",
   "metadata": {},
   "outputs": [],
   "source": []
  },
  {
   "cell_type": "code",
   "execution_count": null,
   "id": "af6b41b7",
   "metadata": {},
   "outputs": [],
   "source": []
  },
  {
   "cell_type": "code",
   "execution_count": null,
   "id": "23ed5d85",
   "metadata": {},
   "outputs": [],
   "source": []
  },
  {
   "cell_type": "code",
   "execution_count": null,
   "id": "78162c59",
   "metadata": {},
   "outputs": [],
   "source": []
  },
  {
   "cell_type": "code",
   "execution_count": null,
   "id": "9f665119",
   "metadata": {},
   "outputs": [],
   "source": []
  },
  {
   "cell_type": "code",
   "execution_count": null,
   "id": "8985be99",
   "metadata": {},
   "outputs": [],
   "source": []
  },
  {
   "cell_type": "code",
   "execution_count": null,
   "id": "d2e58642",
   "metadata": {},
   "outputs": [],
   "source": []
  },
  {
   "cell_type": "code",
   "execution_count": null,
   "id": "2383239f",
   "metadata": {},
   "outputs": [],
   "source": []
  },
  {
   "cell_type": "code",
   "execution_count": null,
   "id": "549f5d33",
   "metadata": {},
   "outputs": [],
   "source": []
  },
  {
   "cell_type": "code",
   "execution_count": null,
   "id": "40fb01ad",
   "metadata": {},
   "outputs": [],
   "source": []
  },
  {
   "cell_type": "code",
   "execution_count": null,
   "id": "68af8e39",
   "metadata": {},
   "outputs": [],
   "source": []
  },
  {
   "cell_type": "code",
   "execution_count": null,
   "id": "b414dfea",
   "metadata": {},
   "outputs": [],
   "source": []
  },
  {
   "cell_type": "code",
   "execution_count": null,
   "id": "17657a25",
   "metadata": {},
   "outputs": [],
   "source": []
  }
 ],
 "metadata": {
  "kernelspec": {
   "display_name": "Python 3 (ipykernel)",
   "language": "python",
   "name": "python3"
  },
  "language_info": {
   "codemirror_mode": {
    "name": "ipython",
    "version": 3
   },
   "file_extension": ".py",
   "mimetype": "text/x-python",
   "name": "python",
   "nbconvert_exporter": "python",
   "pygments_lexer": "ipython3",
   "version": "3.8.10"
  }
 },
 "nbformat": 4,
 "nbformat_minor": 5
}
